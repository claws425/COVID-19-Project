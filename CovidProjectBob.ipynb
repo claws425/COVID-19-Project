{
 "cells": [
  {
   "cell_type": "code",
   "execution_count": 102,
   "metadata": {},
   "outputs": [
    {
     "data": {
      "text/html": [
       "<div>\n",
       "<style scoped>\n",
       "    .dataframe tbody tr th:only-of-type {\n",
       "        vertical-align: middle;\n",
       "    }\n",
       "\n",
       "    .dataframe tbody tr th {\n",
       "        vertical-align: top;\n",
       "    }\n",
       "\n",
       "    .dataframe thead th {\n",
       "        text-align: right;\n",
       "    }\n",
       "</style>\n",
       "<table border=\"1\" class=\"dataframe\">\n",
       "  <thead>\n",
       "    <tr style=\"text-align: right;\">\n",
       "      <th></th>\n",
       "      <th>Unnamed: 0</th>\n",
       "      <th>county</th>\n",
       "      <th>state</th>\n",
       "      <th>percentage16_Donald_Trump</th>\n",
       "      <th>percentage16_Hillary_Clinton</th>\n",
       "      <th>total_votes16</th>\n",
       "      <th>votes16_Donald_Trump</th>\n",
       "      <th>votes16_Hillary_Clinton</th>\n",
       "      <th>percentage20_Donald_Trump</th>\n",
       "      <th>percentage20_Joe_Biden</th>\n",
       "      <th>...</th>\n",
       "      <th>Employed</th>\n",
       "      <th>PrivateWork</th>\n",
       "      <th>PublicWork</th>\n",
       "      <th>SelfEmployed</th>\n",
       "      <th>FamilyWork</th>\n",
       "      <th>Unemployment</th>\n",
       "      <th>MessageDate</th>\n",
       "      <th>Negative</th>\n",
       "      <th>Positive</th>\n",
       "      <th>Total</th>\n",
       "    </tr>\n",
       "  </thead>\n",
       "  <tbody>\n",
       "    <tr>\n",
       "      <th>0</th>\n",
       "      <td>30.0</td>\n",
       "      <td>Alcona</td>\n",
       "      <td>MI</td>\n",
       "      <td>0.68</td>\n",
       "      <td>0.28</td>\n",
       "      <td>6179.0</td>\n",
       "      <td>4201.0</td>\n",
       "      <td>1732.0</td>\n",
       "      <td>0.686</td>\n",
       "      <td>0.303</td>\n",
       "      <td>...</td>\n",
       "      <td>3357.0</td>\n",
       "      <td>78.3</td>\n",
       "      <td>14.0</td>\n",
       "      <td>7.5</td>\n",
       "      <td>0.2</td>\n",
       "      <td>9.3</td>\n",
       "      <td>3/17/2020</td>\n",
       "      <td>1</td>\n",
       "      <td>0</td>\n",
       "      <td>1</td>\n",
       "    </tr>\n",
       "    <tr>\n",
       "      <th>1</th>\n",
       "      <td>30.0</td>\n",
       "      <td>Alcona</td>\n",
       "      <td>MI</td>\n",
       "      <td>0.68</td>\n",
       "      <td>0.28</td>\n",
       "      <td>6179.0</td>\n",
       "      <td>4201.0</td>\n",
       "      <td>1732.0</td>\n",
       "      <td>0.686</td>\n",
       "      <td>0.303</td>\n",
       "      <td>...</td>\n",
       "      <td>3357.0</td>\n",
       "      <td>78.3</td>\n",
       "      <td>14.0</td>\n",
       "      <td>7.5</td>\n",
       "      <td>0.2</td>\n",
       "      <td>9.3</td>\n",
       "      <td>3/20/2020</td>\n",
       "      <td>2</td>\n",
       "      <td>0</td>\n",
       "      <td>2</td>\n",
       "    </tr>\n",
       "    <tr>\n",
       "      <th>2</th>\n",
       "      <td>30.0</td>\n",
       "      <td>Alcona</td>\n",
       "      <td>MI</td>\n",
       "      <td>0.68</td>\n",
       "      <td>0.28</td>\n",
       "      <td>6179.0</td>\n",
       "      <td>4201.0</td>\n",
       "      <td>1732.0</td>\n",
       "      <td>0.686</td>\n",
       "      <td>0.303</td>\n",
       "      <td>...</td>\n",
       "      <td>3357.0</td>\n",
       "      <td>78.3</td>\n",
       "      <td>14.0</td>\n",
       "      <td>7.5</td>\n",
       "      <td>0.2</td>\n",
       "      <td>9.3</td>\n",
       "      <td>3/23/2020</td>\n",
       "      <td>1</td>\n",
       "      <td>0</td>\n",
       "      <td>1</td>\n",
       "    </tr>\n",
       "    <tr>\n",
       "      <th>3</th>\n",
       "      <td>30.0</td>\n",
       "      <td>Alcona</td>\n",
       "      <td>MI</td>\n",
       "      <td>0.68</td>\n",
       "      <td>0.28</td>\n",
       "      <td>6179.0</td>\n",
       "      <td>4201.0</td>\n",
       "      <td>1732.0</td>\n",
       "      <td>0.686</td>\n",
       "      <td>0.303</td>\n",
       "      <td>...</td>\n",
       "      <td>3357.0</td>\n",
       "      <td>78.3</td>\n",
       "      <td>14.0</td>\n",
       "      <td>7.5</td>\n",
       "      <td>0.2</td>\n",
       "      <td>9.3</td>\n",
       "      <td>3/24/2020</td>\n",
       "      <td>1</td>\n",
       "      <td>0</td>\n",
       "      <td>1</td>\n",
       "    </tr>\n",
       "    <tr>\n",
       "      <th>4</th>\n",
       "      <td>30.0</td>\n",
       "      <td>Alcona</td>\n",
       "      <td>MI</td>\n",
       "      <td>0.68</td>\n",
       "      <td>0.28</td>\n",
       "      <td>6179.0</td>\n",
       "      <td>4201.0</td>\n",
       "      <td>1732.0</td>\n",
       "      <td>0.686</td>\n",
       "      <td>0.303</td>\n",
       "      <td>...</td>\n",
       "      <td>3357.0</td>\n",
       "      <td>78.3</td>\n",
       "      <td>14.0</td>\n",
       "      <td>7.5</td>\n",
       "      <td>0.2</td>\n",
       "      <td>9.3</td>\n",
       "      <td>3/25/2020</td>\n",
       "      <td>2</td>\n",
       "      <td>0</td>\n",
       "      <td>2</td>\n",
       "    </tr>\n",
       "  </tbody>\n",
       "</table>\n",
       "<p>5 rows × 55 columns</p>\n",
       "</div>"
      ],
      "text/plain": [
       "   Unnamed: 0  county state  percentage16_Donald_Trump  \\\n",
       "0        30.0  Alcona    MI                       0.68   \n",
       "1        30.0  Alcona    MI                       0.68   \n",
       "2        30.0  Alcona    MI                       0.68   \n",
       "3        30.0  Alcona    MI                       0.68   \n",
       "4        30.0  Alcona    MI                       0.68   \n",
       "\n",
       "   percentage16_Hillary_Clinton  total_votes16  votes16_Donald_Trump  \\\n",
       "0                          0.28         6179.0                4201.0   \n",
       "1                          0.28         6179.0                4201.0   \n",
       "2                          0.28         6179.0                4201.0   \n",
       "3                          0.28         6179.0                4201.0   \n",
       "4                          0.28         6179.0                4201.0   \n",
       "\n",
       "   votes16_Hillary_Clinton  percentage20_Donald_Trump  percentage20_Joe_Biden  \\\n",
       "0                   1732.0                      0.686                   0.303   \n",
       "1                   1732.0                      0.686                   0.303   \n",
       "2                   1732.0                      0.686                   0.303   \n",
       "3                   1732.0                      0.686                   0.303   \n",
       "4                   1732.0                      0.686                   0.303   \n",
       "\n",
       "   ...  Employed  PrivateWork  PublicWork  SelfEmployed  FamilyWork  \\\n",
       "0  ...    3357.0         78.3        14.0           7.5         0.2   \n",
       "1  ...    3357.0         78.3        14.0           7.5         0.2   \n",
       "2  ...    3357.0         78.3        14.0           7.5         0.2   \n",
       "3  ...    3357.0         78.3        14.0           7.5         0.2   \n",
       "4  ...    3357.0         78.3        14.0           7.5         0.2   \n",
       "\n",
       "   Unemployment  MessageDate  Negative  Positive  Total  \n",
       "0           9.3    3/17/2020         1         0      1  \n",
       "1           9.3    3/20/2020         2         0      2  \n",
       "2           9.3    3/23/2020         1         0      1  \n",
       "3           9.3    3/24/2020         1         0      1  \n",
       "4           9.3    3/25/2020         2         0      2  \n",
       "\n",
       "[5 rows x 55 columns]"
      ]
     },
     "execution_count": 102,
     "metadata": {},
     "output_type": "execute_result"
    }
   ],
   "source": [
    "# Dependencies and Setup\n",
    "import matplotlib.pyplot as plt\n",
    "import pandas as pd\n",
    "import scipy.stats as st\n",
    "\n",
    "# Study data files\n",
    "hospitalization = \"Hospitalization.csv\"\n",
    "county_statistics = \"county_statistics.csv\"\n",
    "diagnostics = \"Diagnostics.csv\"\n",
    "demographics = \"Demographics.csv\"\n",
    "tests = \"Tests.csv\"\n",
    "# Read the Covid data and the study results\n",
    "hospitalization_data = pd.read_csv(hospitalization)\n",
    "county_statistics_data = pd.read_csv(county_statistics)\n",
    "diagnostics_data = pd.read_csv(diagnostics)\n",
    "#demographics_data = pd.read_csv(demographics) no county key\n",
    "#tests_data = pd.read_csv(tests)\n",
    "#hospitalization_data.head() # remove \"Latitude\" \"Longitude\"\n",
    "#county_statistics_data.head()\n",
    "#diagnostics_data.head()\n",
    "#tests_data.head()\n",
    "#demographics_data.head() no county key\n",
    "diagnostics_data = diagnostics_data.rename(columns={'COUNTY': 'county'})\n",
    "tests_data = tests_data.rename(columns={'County': 'county'})\n",
    "# Combine the data into a single dataset\n",
    "combined_covid = pd.merge(county_statistics_data, diagnostics_data, how=\"right\", on=[\"county\", \"county\"])\n",
    "# Display the data table for preview\n",
    "county_graph_state = combined_covid.loc[(combined_covid[\"state\"] == 'MI')]\n",
    "#county_graph = combined_covid.loc[(combined_covid[\"county\"] == 'Kalamazoo') | (combined_covid[\"county\"] == 'Monroe') | (combined_covid[\"county\"] == 'Wayne')\n",
    "                                   #| (combined_covid[\"county\"] == 'Washtenaw')]\n",
    "#county_graph_state = county_graph.loc[(county_graph[\"state\"] == 'MI')]\n",
    "county_graph_state.head()"
   ]
  },
  {
   "cell_type": "code",
   "execution_count": 120,
   "metadata": {},
   "outputs": [
    {
     "data": {
      "text/plain": [
       "<function matplotlib.pyplot.show(close=None, block=None)>"
      ]
     },
     "execution_count": 120,
     "metadata": {},
     "output_type": "execute_result"
    },
    {
     "data": {
      "image/png": "[encoded data removed]",
      "text/plain": [
       "<Figure size 432x288 with 1 Axes>"
      ]
     },
     "metadata": {
      "needs_background": "light"
     },
     "output_type": "display_data"
    }
   ],
   "source": [
    "negatives = county_graph_state.groupby('county')['Negative'].sum()\n",
    "positives = county_graph_state.groupby('county')['Positive'].sum()\n",
    "total_test = county_graph_state.groupby('county')['Total'].sum()\n",
    "candidate_link = county_graph_state.groupby('county')['percentage20_Joe_Biden'].mean()\n",
    "candidate2_link = county_graph_state.groupby('county')['percentage20_Donald_Trump'].mean()\n",
    "negative_pct = negatives/total_test\n",
    "positive_pct = positives/total_test\n",
    "negative_pct\n",
    "positive_pct\n",
    "county_names = county_graph_state[\"county\"].unique()\n",
    "positive_pct\n",
    "#x_axis = ['kalamazoo', 'Wayne', 'Washtenaw', 'Monroe']\n",
    "plt.scatter(candidate2_link, positive_pct, color = 'red')\n",
    "plt.xlabel(\"Trump Vote\")\n",
    "plt.ylabel(\"Positive Test Rate\")\n",
    "plt.title(\"Test Results by County Vote\")\n",
    "plt.show"
   ]
  },
  {
   "cell_type": "code",
   "execution_count": 116,
   "metadata": {},
   "outputs": [
    {
     "data": {
      "text/plain": [
       "<function matplotlib.pyplot.show(close=None, block=None)>"
      ]
     },
     "execution_count": 116,
     "metadata": {},
     "output_type": "execute_result"
    },
    {
     "data": {
      "image/png": "[encoded data removed]",
      "text/plain": [
       "<Figure size 432x288 with 1 Axes>"
      ]
     },
     "metadata": {
      "needs_background": "light"
     },
     "output_type": "display_data"
    }
   ],
   "source": [
    "plt.scatter(candidate_link, negative_pct)\n",
    "plt.xlabel(\"Biden Vote\")\n",
    "plt.ylabel(\"Negative Test Rate\")\n",
    "plt.title(\"Test Results by County Vote\")\n",
    "plt.show"
   ]
  },
  {
   "cell_type": "code",
   "execution_count": 115,
   "metadata": {},
   "outputs": [
    {
     "data": {
      "text/plain": [
       "<function matplotlib.pyplot.show(close=None, block=None)>"
      ]
     },
     "execution_count": 115,
     "metadata": {},
     "output_type": "execute_result"
    },
    {
     "data": {
      "image/png": "[encoded data removed]",
      "text/plain": [
       "<Figure size 432x288 with 1 Axes>"
      ]
     },
     "metadata": {
      "needs_background": "light"
     },
     "output_type": "display_data"
    }
   ],
   "source": [
    "plt.scatter(candidate2_link, negative_pct, color = 'red')\n",
    "plt.xlabel(\"Trump Vote\")\n",
    "plt.ylabel(\"Negative Test Rate\")\n",
    "plt.title(\"Test Results by County Vote\")\n",
    "plt.show"
   ]
  },
  {
   "cell_type": "code",
   "execution_count": 119,
   "metadata": {},
   "outputs": [
    {
     "data": {
      "text/plain": [
       "<function matplotlib.pyplot.show(close=None, block=None)>"
      ]
     },
     "execution_count": 119,
     "metadata": {},
     "output_type": "execute_result"
    },
    {
     "data": {
      "image/png": "[encoded data removed]",
      "text/plain": [
       "<Figure size 432x288 with 1 Axes>"
      ]
     },
     "metadata": {
      "needs_background": "light"
     },
     "output_type": "display_data"
    }
   ],
   "source": [
    "plt.scatter(candidate_link, positive_pct)\n",
    "plt.xlabel(\"Biden Vote\")\n",
    "plt.ylabel(\"Positive Test Rate\")\n",
    "plt.title(\"Test Results by County Vote\")\n",
    "plt.show"
   ]
  },
  {
   "cell_type": "code",
   "execution_count": null,
   "metadata": {},
   "outputs": [],
   "source": []
  }
 ],
 "metadata": {
  "kernelspec": {
   "display_name": "Python 3",
   "language": "python",
   "name": "python3"
  },
  "language_info": {
   "codemirror_mode": {
    "name": "ipython",
    "version": 3
   },
   "file_extension": ".py",
   "mimetype": "text/x-python",
   "name": "python",
   "nbconvert_exporter": "python",
   "pygments_lexer": "ipython3",
   "version": "3.8.5"
  }
 },
 "nbformat": 4,
 "nbformat_minor": 4
}
